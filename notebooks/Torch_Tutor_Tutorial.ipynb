{
 "nbformat": 4,
 "nbformat_minor": 0,
 "metadata": {
  "colab": {
   "name": "Torch Tutor  Tutorial",
   "provenance": [],
   "collapsed_sections": []
  },
  "kernelspec": {
   "name": "python3",
   "display_name": "Python 3"
  },
  "language_info": {
   "name": "python"
  },
  "accelerator": "GPU",
  "gpuClass": "standard"
 },
 "cells": [
  {
   "cell_type": "markdown",
   "source": [],
   "metadata": {
    "id": "jIq5k36bTV63",
    "pycharm": {
     "name": "#%% md\n"
    }
   }
  },
  {
   "cell_type": "markdown",
   "source": [
    "Installation of `torch_tutor`"
   ],
   "metadata": {
    "id": "q4rOxWXfVJY6",
    "pycharm": {
     "name": "#%% md\n"
    }
   }
  },
  {
   "cell_type": "code",
   "source": [
    "!pip install torch-tutor"
   ],
   "metadata": {
    "colab": {
     "base_uri": "https://localhost:8080/"
    },
    "id": "HfEYOuXDVNQ6",
    "outputId": "d2540a96-de2f-45be-f678-208b42c068e6",
    "pycharm": {
     "name": "#%%\n"
    }
   },
   "execution_count": 1,
   "outputs": [
    {
     "output_type": "stream",
     "name": "stdout",
     "text": [
      "Looking in indexes: https://pypi.org/simple, https://us-python.pkg.dev/colab-wheels/public/simple/\n",
      "Collecting torch-tutor\n",
      "  Downloading torch_tutor-0.0.2-py3-none-any.whl (7.8 kB)\n",
      "Requirement already satisfied: numpy in /usr/local/lib/python3.7/dist-packages (from torch-tutor) (1.21.6)\n",
      "Requirement already satisfied: pandas in /usr/local/lib/python3.7/dist-packages (from torch-tutor) (1.3.5)\n",
      "Requirement already satisfied: python-dateutil>=2.7.3 in /usr/local/lib/python3.7/dist-packages (from pandas->torch-tutor) (2.8.2)\n",
      "Requirement already satisfied: pytz>=2017.3 in /usr/local/lib/python3.7/dist-packages (from pandas->torch-tutor) (2022.1)\n",
      "Requirement already satisfied: six>=1.5 in /usr/local/lib/python3.7/dist-packages (from python-dateutil>=2.7.3->pandas->torch-tutor) (1.15.0)\n",
      "Installing collected packages: torch-tutor\n",
      "Successfully installed torch-tutor-0.0.2\n"
     ]
    }
   ]
  },
  {
   "cell_type": "markdown",
   "source": [
    "# Torch-Tutor Tutorial :\n",
    "\n",
    "In tis Notebook we will see how to use torch_tutor easily."
   ],
   "metadata": {
    "id": "e_NRI9DYK0l7",
    "pycharm": {
     "name": "#%% md\n"
    }
   }
  },
  {
   "cell_type": "markdown",
   "source": [
    "First let us check if we have any GPU connected or not. If connected, then how much space is allocated."
   ],
   "metadata": {
    "id": "uck5pPk0LdDM",
    "pycharm": {
     "name": "#%% md\n"
    }
   }
  },
  {
   "cell_type": "code",
   "source": [
    "!nvidia-smi"
   ],
   "metadata": {
    "colab": {
     "base_uri": "https://localhost:8080/"
    },
    "id": "poT_Vp2Vij8t",
    "outputId": "d5dc465a-9a7b-44fd-ab09-b0f87507cb1b",
    "pycharm": {
     "name": "#%%\n"
    }
   },
   "execution_count": 2,
   "outputs": [
    {
     "output_type": "stream",
     "name": "stdout",
     "text": [
      "Sat Jul  9 05:01:03 2022       \n",
      "+-----------------------------------------------------------------------------+\n",
      "| NVIDIA-SMI 460.32.03    Driver Version: 460.32.03    CUDA Version: 11.2     |\n",
      "|-------------------------------+----------------------+----------------------+\n",
      "| GPU  Name        Persistence-M| Bus-Id        Disp.A | Volatile Uncorr. ECC |\n",
      "| Fan  Temp  Perf  Pwr:Usage/Cap|         Memory-Usage | GPU-Util  Compute M. |\n",
      "|                               |                      |               MIG M. |\n",
      "|===============================+======================+======================|\n",
      "|   0  Tesla T4            Off  | 00000000:00:04.0 Off |                    0 |\n",
      "| N/A   51C    P8    10W /  70W |      0MiB / 15109MiB |      0%      Default |\n",
      "|                               |                      |                  N/A |\n",
      "+-------------------------------+----------------------+----------------------+\n",
      "                                                                               \n",
      "+-----------------------------------------------------------------------------+\n",
      "| Processes:                                                                  |\n",
      "|  GPU   GI   CI        PID   Type   Process name                  GPU Memory |\n",
      "|        ID   ID                                                   Usage      |\n",
      "|=============================================================================|\n",
      "|  No running processes found                                                 |\n",
      "+-----------------------------------------------------------------------------+\n"
     ]
    }
   ]
  },
  {
   "cell_type": "markdown",
   "source": [
    "Now we have to download the data from Kaggle . Upload the kaggle API i.e. `kaggle.json` in the `/content/` folder.\n",
    "\n",
    "The following cell of bash commands will download and prepared file directory."
   ],
   "metadata": {
    "id": "HS5WAWINLk0Q",
    "pycharm": {
     "name": "#%% md\n"
    }
   }
  },
  {
   "cell_type": "code",
   "execution_count": 3,
   "metadata": {
    "id": "oCxYoiziBuxI",
    "colab": {
     "base_uri": "https://localhost:8080/"
    },
    "outputId": "4212accd-70ac-4c98-d993-1db4127cfd59",
    "pycharm": {
     "name": "#%%\n"
    }
   },
   "outputs": [
    {
     "output_type": "stream",
     "name": "stdout",
     "text": [
      "Downloading flowers-recognition.zip to /content\n",
      " 97% 217M/225M [00:06<00:00, 32.1MB/s]\n",
      "100% 225M/225M [00:06<00:00, 38.6MB/s]\n"
     ]
    }
   ],
   "source": [
    "!pip install -q kaggle\n",
    "!mkdir -p ~/.kaggle\n",
    "!cp kaggle.json ~/.kaggle/\n",
    "!chmod 600 ~/.kaggle/kaggle.json\n",
    "!kaggle datasets download -d alxmamaev/flowers-recognition\n",
    "!unzip -q /content/flowers-recognition.zip"
   ]
  },
  {
   "cell_type": "markdown",
   "source": [
    "## 1. Dataset :\n",
    "\n",
    "Then we'll split the data into training and validation set."
   ],
   "metadata": {
    "id": "F4dlS-vZMKNW",
    "pycharm": {
     "name": "#%% md\n"
    }
   }
  },
  {
   "cell_type": "code",
   "source": [
    "from torch.utils.data import Dataset, random_split\n",
    "from torchvision.transforms import ToTensor\n",
    "from glob import glob\n",
    "from PIL import Image"
   ],
   "metadata": {
    "id": "MzcxCDELMT1X",
    "pycharm": {
     "name": "#%%\n"
    }
   },
   "execution_count": 4,
   "outputs": []
  },
  {
   "cell_type": "markdown",
   "source": [
    "Annotating class labels"
   ],
   "metadata": {
    "id": "doV-1bs9MicS",
    "pycharm": {
     "name": "#%% md\n"
    }
   }
  },
  {
   "cell_type": "code",
   "source": [
    "class_names = {\"daisy\": 0, \"dandelion\": 1, \"rose\": 2, \"sunflower\": 3, \"tulip\": 4}"
   ],
   "metadata": {
    "id": "3pTb57NIMfHR",
    "pycharm": {
     "name": "#%%\n"
    }
   },
   "execution_count": 5,
   "outputs": []
  },
  {
   "cell_type": "markdown",
   "source": [
    "Preparing Flower Dataset and loading it."
   ],
   "metadata": {
    "id": "mbfYDzJQMlFh",
    "pycharm": {
     "name": "#%% md\n"
    }
   }
  },
  {
   "cell_type": "code",
   "source": [
    "class DS(Dataset):\n",
    "\n",
    "    def __init__(self, dir):\n",
    "        self.dir = glob(f\"{dir}/*/*jpg\")\n",
    "\n",
    "    def __len__(self):\n",
    "        return len(self.dir)\n",
    "\n",
    "    def __getitem__(self, index):\n",
    "        path = self.dir[index]\n",
    "        label = class_names[path.split(\"/\")[1]]\n",
    "        image = Image.open(path)\n",
    "        image = image.resize((224, 224))\n",
    "        image = ToTensor()(image)\n",
    "\n",
    "        return image, label\n",
    "\n",
    "ds = DS(\"flowers\")"
   ],
   "metadata": {
    "id": "IU_Eu8w1MhPY",
    "pycharm": {
     "name": "#%%\n"
    }
   },
   "execution_count": 6,
   "outputs": []
  },
  {
   "cell_type": "markdown",
   "source": [
    "Now splitting the dataset into train and validation set."
   ],
   "metadata": {
    "id": "ElIJJWMFMpfA",
    "pycharm": {
     "name": "#%% md\n"
    }
   }
  },
  {
   "cell_type": "code",
   "source": [
    "train_ds, val_ds = random_split(ds, [3000, 1317])"
   ],
   "metadata": {
    "id": "z2HaAsAkMuxg",
    "pycharm": {
     "name": "#%%\n"
    }
   },
   "execution_count": 7,
   "outputs": []
  },
  {
   "cell_type": "markdown",
   "source": [
    "## 2. Model :     \n",
    "\n",
    "Now we will prepare the model and call it.\n",
    "\n",
    "The model in here is basically vgg11 with a last layer of 100 neurons outputs."
   ],
   "metadata": {
    "id": "nQZN0Aa1Mz_Y",
    "pycharm": {
     "name": "#%% md\n"
    }
   }
  },
  {
   "cell_type": "code",
   "source": [
    "import torch.nn as nn\n",
    "from torchvision.models import vgg11"
   ],
   "metadata": {
    "id": "J7qobAl3NJ6f",
    "pycharm": {
     "name": "#%%\n"
    }
   },
   "execution_count": 8,
   "outputs": []
  },
  {
   "cell_type": "code",
   "source": [
    "class FlowerNN(nn.Module):\n",
    "  def __init__(self, num_classes):\n",
    "    super().__init__()\n",
    "    self.net = nn.Sequential(\n",
    "        vgg11(),\n",
    "        nn.Linear(1000, num_classes)\n",
    "    )\n",
    "\n",
    "  def forward(self, x):\n",
    "    return self.net(x)\n",
    "print(\"Model\")\n",
    "\n",
    "model = FlowerNN(5)"
   ],
   "metadata": {
    "colab": {
     "base_uri": "https://localhost:8080/"
    },
    "id": "xPh9eKRJNKug",
    "outputId": "3e6bc2ab-218b-46a4-a311-70185c784668",
    "pycharm": {
     "name": "#%%\n"
    }
   },
   "execution_count": 9,
   "outputs": [
    {
     "output_type": "stream",
     "name": "stdout",
     "text": [
      "Model\n"
     ]
    }
   ]
  },
  {
   "cell_type": "markdown",
   "source": [
    "Now `torch_tutor` comes into the GAME."
   ],
   "metadata": {
    "id": "XZMXlNuQNXL4",
    "pycharm": {
     "name": "#%% md\n"
    }
   }
  },
  {
   "cell_type": "code",
   "source": [
    "from torch.optim import Adam\n",
    "from torch.nn import CrossEntropyLoss\n",
    "from torch_tutor.core.trainer import Trainer\n",
    "from torch_tutor.core.callbacks import CallBack"
   ],
   "metadata": {
    "id": "v5Z3V3plNbdf",
    "pycharm": {
     "name": "#%%\n"
    }
   },
   "execution_count": 10,
   "outputs": []
  },
  {
   "cell_type": "code",
   "source": [
    "callback = CallBack(tracker = \"accuracy\", on = \"validation\")\n",
    "trainer = Trainer(train_ds, model, \"cuda\")\n",
    "trainer.compile(Adam, CrossEntropyLoss(), metrics = [\"accuracy\", \"precision\", \"recall\"],\n",
    "                optimizer_hparams={\"lr\": 0.0001})\n",
    "trainer.train(batch_size=32, num_epochs=20, validation_set = val_ds, callback = callback)"
   ],
   "metadata": {
    "colab": {
     "base_uri": "https://localhost:8080/"
    },
    "id": "f-2pfxn6i2HI",
    "outputId": "6ba949e2-15f0-4c66-8b2a-4a11ca2fa3ca",
    "pycharm": {
     "name": "#%%\n"
    }
   },
   "execution_count": 11,
   "outputs": [
    {
     "output_type": "stream",
     "name": "stdout",
     "text": [
      "Epoch : 1 :\n",
      "[Step 0] : {'accuracy': 0.25, 'precision': 0.316106, 'recall': 0.25, 'loss': 1.611075}\n",
      "[Step 10] : {'accuracy': 0.28125, 'precision': 0.161797, 'recall': 0.28125, 'loss': 1.600428}\n",
      "[Step 20] : {'accuracy': 0.21875, 'precision': 0.047852, 'recall': 0.21875, 'loss': 1.610849}\n",
      "[Step 30] : {'accuracy': 0.15625, 'precision': 0.03125, 'recall': 0.15625, 'loss': 1.609197}\n",
      "[Step 40] : {'accuracy': 0.125, 'precision': 0.015625, 'recall': 0.125, 'loss': 1.617031}\n",
      "[Step 50] : {'accuracy': 0.09375, 'precision': 0.130435, 'recall': 0.09375, 'loss': 1.674893}\n",
      "[Step 60] : {'accuracy': 0.25, 'precision': 0.083333, 'recall': 0.25, 'loss': 1.589429}\n",
      "[Step 70] : {'accuracy': 0.34375, 'precision': 0.170673, 'recall': 0.34375, 'loss': 1.549553}\n",
      "[Step 80] : {'accuracy': 0.5625, 'precision': 0.614522, 'recall': 0.5625, 'loss': 1.307852}\n",
      "[Step 90] : {'accuracy': 0.21875, 'precision': 0.223462, 'recall': 0.21875, 'loss': 1.464162}\n",
      "Execution Time : 32.714566 seconds\n",
      "Training scores : \n",
      "   accuracy  precision    recall      loss\n",
      "0  0.256384   0.160407  0.256384  1.567555\n",
      "Validation scores : \n",
      "   accuracy  precision    recall      loss\n",
      "0  0.373476   0.202916  0.373476  1.420675\n",
      "Best score updated. Current Best Score : 0.373476\n",
      "\n",
      "\n",
      "Epoch : 2 :\n",
      "[Step 0] : {'accuracy': 0.40625, 'precision': 0.239583, 'recall': 0.40625, 'loss': 1.476819}\n",
      "[Step 10] : {'accuracy': 0.4375, 'precision': 0.487537, 'recall': 0.4375, 'loss': 1.321576}\n",
      "[Step 20] : {'accuracy': 0.4375, 'precision': 0.61568, 'recall': 0.4375, 'loss': 1.300592}\n",
      "[Step 30] : {'accuracy': 0.5625, 'precision': 0.490234, 'recall': 0.5625, 'loss': 1.529514}\n",
      "[Step 40] : {'accuracy': 0.3125, 'precision': 0.220833, 'recall': 0.3125, 'loss': 1.373553}\n",
      "[Step 50] : {'accuracy': 0.46875, 'precision': 0.434747, 'recall': 0.46875, 'loss': 1.261722}\n",
      "[Step 60] : {'accuracy': 0.4375, 'precision': 0.322669, 'recall': 0.4375, 'loss': 1.334207}\n",
      "[Step 70] : {'accuracy': 0.53125, 'precision': 0.352927, 'recall': 0.53125, 'loss': 0.950406}\n",
      "[Step 80] : {'accuracy': 0.625, 'precision': 0.779167, 'recall': 0.625, 'loss': 0.928135}\n",
      "[Step 90] : {'accuracy': 0.3125, 'precision': 0.310606, 'recall': 0.3125, 'loss': 1.448743}\n",
      "Execution Time : 33.287495 seconds\n",
      "Training scores : \n",
      "   accuracy  precision    recall      loss\n",
      "0  0.442204   0.414715  0.442204  1.255708\n",
      "Validation scores : \n",
      "   accuracy  precision  recall      loss\n",
      "0       0.5   0.433037     0.5  1.152855\n",
      "Best score updated. Current Best Score : 0.5\n",
      "\n",
      "\n",
      "Epoch : 3 :\n",
      "[Step 0] : {'accuracy': 0.5625, 'precision': 0.480035, 'recall': 0.5625, 'loss': 1.20148}\n",
      "[Step 10] : {'accuracy': 0.5625, 'precision': 0.697115, 'recall': 0.5625, 'loss': 1.157777}\n",
      "[Step 20] : {'accuracy': 0.53125, 'precision': 0.658482, 'recall': 0.53125, 'loss': 1.025417}\n",
      "[Step 30] : {'accuracy': 0.59375, 'precision': 0.623661, 'recall': 0.59375, 'loss': 0.99848}\n",
      "[Step 40] : {'accuracy': 0.6875, 'precision': 0.747024, 'recall': 0.6875, 'loss': 0.9737}\n",
      "[Step 50] : {'accuracy': 0.53125, 'precision': 0.464286, 'recall': 0.53125, 'loss': 1.070739}\n",
      "[Step 60] : {'accuracy': 0.46875, 'precision': 0.565972, 'recall': 0.46875, 'loss': 0.908601}\n",
      "[Step 70] : {'accuracy': 0.46875, 'precision': 0.315419, 'recall': 0.46875, 'loss': 1.166786}\n",
      "[Step 80] : {'accuracy': 0.46875, 'precision': 0.441346, 'recall': 0.46875, 'loss': 1.14921}\n",
      "[Step 90] : {'accuracy': 0.5, 'precision': 0.655134, 'recall': 0.5, 'loss': 0.999235}\n",
      "Execution Time : 32.694196 seconds\n",
      "Training scores : \n",
      "   accuracy  precision    recall      loss\n",
      "0  0.524194   0.557211  0.524194  1.132585\n",
      "Validation scores : \n",
      "   accuracy  precision    recall      loss\n",
      "0  0.559451   0.620747  0.559451  1.059325\n",
      "Best score updated. Current Best Score : 0.559451\n",
      "\n",
      "\n",
      "Epoch : 4 :\n",
      "[Step 0] : {'accuracy': 0.46875, 'precision': 0.517918, 'recall': 0.46875, 'loss': 0.999073}\n",
      "[Step 10] : {'accuracy': 0.6875, 'precision': 0.8125, 'recall': 0.6875, 'loss': 0.987556}\n",
      "[Step 20] : {'accuracy': 0.4375, 'precision': 0.497024, 'recall': 0.4375, 'loss': 1.062901}\n",
      "[Step 30] : {'accuracy': 0.59375, 'precision': 0.58125, 'recall': 0.59375, 'loss': 1.018874}\n",
      "[Step 40] : {'accuracy': 0.65625, 'precision': 0.6875, 'recall': 0.65625, 'loss': 1.180606}\n",
      "[Step 50] : {'accuracy': 0.625, 'precision': 0.681424, 'recall': 0.625, 'loss': 1.017865}\n",
      "[Step 60] : {'accuracy': 0.625, 'precision': 0.686198, 'recall': 0.625, 'loss': 0.964005}\n",
      "[Step 70] : {'accuracy': 0.6875, 'precision': 0.752604, 'recall': 0.6875, 'loss': 0.860327}\n",
      "[Step 80] : {'accuracy': 0.59375, 'precision': 0.724787, 'recall': 0.59375, 'loss': 1.040639}\n",
      "[Step 90] : {'accuracy': 0.59375, 'precision': 0.604539, 'recall': 0.59375, 'loss': 0.970915}\n",
      "Execution Time : 33.088711 seconds\n",
      "Training scores : \n",
      "   accuracy  precision    recall      loss\n",
      "0  0.607527   0.667225  0.607527  1.000443\n",
      "Validation scores : \n",
      "   accuracy  precision    recall      loss\n",
      "0  0.647104   0.671682  0.647104  0.869663\n",
      "Best score updated. Current Best Score : 0.647104\n",
      "\n",
      "\n",
      "Epoch : 5 :\n",
      "[Step 0] : {'accuracy': 0.71875, 'precision': 0.729018, 'recall': 0.71875, 'loss': 0.663126}\n",
      "[Step 10] : {'accuracy': 0.5625, 'precision': 0.577083, 'recall': 0.5625, 'loss': 1.102737}\n",
      "[Step 20] : {'accuracy': 0.6875, 'precision': 0.7233, 'recall': 0.6875, 'loss': 0.721635}\n",
      "[Step 30] : {'accuracy': 0.71875, 'precision': 0.766026, 'recall': 0.71875, 'loss': 0.735839}\n",
      "[Step 40] : {'accuracy': 0.84375, 'precision': 0.848958, 'recall': 0.84375, 'loss': 0.610773}\n",
      "[Step 50] : {'accuracy': 0.6875, 'precision': 0.713281, 'recall': 0.6875, 'loss': 0.723486}\n",
      "[Step 60] : {'accuracy': 0.59375, 'precision': 0.619034, 'recall': 0.59375, 'loss': 0.826759}\n",
      "[Step 70] : {'accuracy': 0.75, 'precision': 0.775174, 'recall': 0.75, 'loss': 0.590606}\n",
      "[Step 80] : {'accuracy': 0.75, 'precision': 0.748958, 'recall': 0.75, 'loss': 0.691476}\n",
      "[Step 90] : {'accuracy': 0.625, 'precision': 0.706399, 'recall': 0.625, 'loss': 1.029278}\n",
      "Execution Time : 32.884192 seconds\n",
      "Training scores : \n",
      "   accuracy  precision    recall      loss\n",
      "0  0.674395   0.715013  0.674395  0.857762\n",
      "Validation scores : \n",
      "   accuracy  precision    recall      loss\n",
      "0  0.657774   0.697384  0.657774  0.872598\n",
      "Best score updated. Current Best Score : 0.657774\n",
      "\n",
      "\n",
      "Epoch : 6 :\n",
      "[Step 0] : {'accuracy': 0.6875, 'precision': 0.785417, 'recall': 0.6875, 'loss': 0.801161}\n",
      "[Step 10] : {'accuracy': 0.75, 'precision': 0.84592, 'recall': 0.75, 'loss': 0.582771}\n",
      "[Step 20] : {'accuracy': 0.78125, 'precision': 0.839583, 'recall': 0.78125, 'loss': 0.613312}\n",
      "[Step 30] : {'accuracy': 0.875, 'precision': 0.890625, 'recall': 0.875, 'loss': 0.404992}\n",
      "[Step 40] : {'accuracy': 0.59375, 'precision': 0.565179, 'recall': 0.59375, 'loss': 0.978358}\n",
      "[Step 50] : {'accuracy': 0.6875, 'precision': 0.700893, 'recall': 0.6875, 'loss': 0.839825}\n",
      "[Step 60] : {'accuracy': 0.84375, 'precision': 0.860176, 'recall': 0.84375, 'loss': 0.605184}\n",
      "[Step 70] : {'accuracy': 0.78125, 'precision': 0.78125, 'recall': 0.78125, 'loss': 0.686153}\n",
      "[Step 80] : {'accuracy': 0.71875, 'precision': 0.77381, 'recall': 0.71875, 'loss': 0.870172}\n",
      "[Step 90] : {'accuracy': 0.6875, 'precision': 0.767188, 'recall': 0.6875, 'loss': 1.007478}\n",
      "Execution Time : 32.838902 seconds\n",
      "Training scores : \n",
      "   accuracy  precision    recall      loss\n",
      "0  0.700269   0.745041  0.700269  0.779358\n",
      "Validation scores : \n",
      "   accuracy  precision    recall      loss\n",
      "0  0.664634   0.712729  0.664634  0.910044\n",
      "Best score updated. Current Best Score : 0.664634\n",
      "\n",
      "\n",
      "Epoch : 7 :\n",
      "[Step 0] : {'accuracy': 0.59375, 'precision': 0.591011, 'recall': 0.59375, 'loss': 0.964605}\n",
      "[Step 10] : {'accuracy': 0.71875, 'precision': 0.761161, 'recall': 0.71875, 'loss': 0.722202}\n",
      "[Step 20] : {'accuracy': 0.8125, 'precision': 0.839286, 'recall': 0.8125, 'loss': 0.639971}\n",
      "[Step 30] : {'accuracy': 0.75, 'precision': 0.818787, 'recall': 0.75, 'loss': 0.665282}\n",
      "[Step 40] : {'accuracy': 0.65625, 'precision': 0.667039, 'recall': 0.65625, 'loss': 0.809747}\n",
      "[Step 50] : {'accuracy': 0.71875, 'precision': 0.766071, 'recall': 0.71875, 'loss': 0.728714}\n",
      "[Step 60] : {'accuracy': 0.65625, 'precision': 0.769097, 'recall': 0.65625, 'loss': 1.008409}\n",
      "[Step 70] : {'accuracy': 0.8125, 'precision': 0.821429, 'recall': 0.8125, 'loss': 0.436097}\n",
      "[Step 80] : {'accuracy': 0.8125, 'precision': 0.853125, 'recall': 0.8125, 'loss': 0.556386}\n",
      "[Step 90] : {'accuracy': 0.625, 'precision': 0.650595, 'recall': 0.625, 'loss': 0.928989}\n",
      "Execution Time : 33.266324 seconds\n",
      "Training scores : \n",
      "   accuracy  precision    recall      loss\n",
      "0  0.742944   0.783187  0.742944  0.696706\n",
      "Validation scores : \n",
      "   accuracy  precision    recall      loss\n",
      "0  0.704268    0.74596  0.704268  0.826473\n",
      "Best score updated. Current Best Score : 0.704268\n",
      "\n",
      "\n",
      "Epoch : 8 :\n",
      "[Step 0] : {'accuracy': 0.875, 'precision': 0.888839, 'recall': 0.875, 'loss': 0.426305}\n",
      "[Step 10] : {'accuracy': 0.71875, 'precision': 0.834659, 'recall': 0.71875, 'loss': 0.821985}\n",
      "[Step 20] : {'accuracy': 0.59375, 'precision': 0.669623, 'recall': 0.59375, 'loss': 0.879066}\n",
      "[Step 30] : {'accuracy': 0.75, 'precision': 0.860156, 'recall': 0.75, 'loss': 0.84111}\n",
      "[Step 40] : {'accuracy': 0.71875, 'precision': 0.820312, 'recall': 0.71875, 'loss': 0.843274}\n",
      "[Step 50] : {'accuracy': 0.75, 'precision': 0.811012, 'recall': 0.75, 'loss': 0.593576}\n",
      "[Step 60] : {'accuracy': 0.84375, 'precision': 0.875, 'recall': 0.84375, 'loss': 0.601356}\n",
      "[Step 70] : {'accuracy': 0.84375, 'precision': 0.861607, 'recall': 0.84375, 'loss': 0.55406}\n",
      "[Step 80] : {'accuracy': 0.90625, 'precision': 0.918527, 'recall': 0.90625, 'loss': 0.397914}\n",
      "[Step 90] : {'accuracy': 0.875, 'precision': 0.883681, 'recall': 0.875, 'loss': 0.449025}\n",
      "Execution Time : 32.999192 seconds\n",
      "Training scores : \n",
      "   accuracy  precision    recall      loss\n",
      "0  0.774194   0.807032  0.774194  0.617057\n",
      "Validation scores : \n",
      "   accuracy  precision    recall      loss\n",
      "0  0.714939    0.74976  0.714939  0.809884\n",
      "Best score updated. Current Best Score : 0.714939\n",
      "\n",
      "\n",
      "Epoch : 9 :\n",
      "[Step 0] : {'accuracy': 0.84375, 'precision': 0.886905, 'recall': 0.84375, 'loss': 0.383167}\n",
      "[Step 10] : {'accuracy': 0.84375, 'precision': 0.895833, 'recall': 0.84375, 'loss': 0.329704}\n",
      "[Step 20] : {'accuracy': 0.875, 'precision': 0.910417, 'recall': 0.875, 'loss': 0.475306}\n",
      "[Step 30] : {'accuracy': 0.6875, 'precision': 0.798177, 'recall': 0.6875, 'loss': 0.780389}\n",
      "[Step 40] : {'accuracy': 0.8125, 'precision': 0.839807, 'recall': 0.8125, 'loss': 0.612676}\n",
      "[Step 50] : {'accuracy': 0.84375, 'precision': 0.853299, 'recall': 0.84375, 'loss': 0.451901}\n",
      "[Step 60] : {'accuracy': 0.71875, 'precision': 0.710346, 'recall': 0.71875, 'loss': 0.612147}\n",
      "[Step 70] : {'accuracy': 0.8125, 'precision': 0.812798, 'recall': 0.8125, 'loss': 0.490837}\n",
      "[Step 80] : {'accuracy': 0.8125, 'precision': 0.815625, 'recall': 0.8125, 'loss': 0.424758}\n",
      "[Step 90] : {'accuracy': 0.65625, 'precision': 0.652654, 'recall': 0.65625, 'loss': 0.907176}\n",
      "Execution Time : 33.04286 seconds\n",
      "Training scores : \n",
      "   accuracy  precision   recall      loss\n",
      "0   0.81922    0.84491  0.81922  0.507546\n",
      "Validation scores : \n",
      "   accuracy  precision    recall      loss\n",
      "0  0.691311    0.74442  0.691311  0.859836\n",
      "best score not updated.\n",
      "\n",
      "\n",
      "Epoch : 10 :\n",
      "[Step 0] : {'accuracy': 0.8125, 'precision': 0.846615, 'recall': 0.8125, 'loss': 0.466118}\n",
      "[Step 10] : {'accuracy': 0.78125, 'precision': 0.822516, 'recall': 0.78125, 'loss': 0.425329}\n",
      "[Step 20] : {'accuracy': 0.90625, 'precision': 0.925347, 'recall': 0.90625, 'loss': 0.295377}\n",
      "[Step 30] : {'accuracy': 0.8125, 'precision': 0.810938, 'recall': 0.8125, 'loss': 0.52233}\n",
      "[Step 40] : {'accuracy': 0.78125, 'precision': 0.859375, 'recall': 0.78125, 'loss': 0.51872}\n",
      "[Step 50] : {'accuracy': 0.84375, 'precision': 0.871875, 'recall': 0.84375, 'loss': 0.310699}\n",
      "[Step 60] : {'accuracy': 0.875, 'precision': 0.878646, 'recall': 0.875, 'loss': 0.343335}\n",
      "[Step 70] : {'accuracy': 0.75, 'precision': 0.767634, 'recall': 0.75, 'loss': 0.576469}\n",
      "[Step 80] : {'accuracy': 0.84375, 'precision': 0.865885, 'recall': 0.84375, 'loss': 0.281807}\n",
      "[Step 90] : {'accuracy': 0.84375, 'precision': 0.861979, 'recall': 0.84375, 'loss': 0.506141}\n",
      "Execution Time : 32.916392 seconds\n",
      "Training scores : \n",
      "   accuracy  precision    recall      loss\n",
      "0  0.844422   0.871026  0.844422  0.429043\n",
      "Validation scores : \n",
      "   accuracy  precision    recall      loss\n",
      "0  0.706555   0.736818  0.706555  0.841989\n",
      "best score not updated.\n",
      "\n",
      "\n",
      "Epoch : 11 :\n",
      "[Step 0] : {'accuracy': 0.9375, 'precision': 0.945312, 'recall': 0.9375, 'loss': 0.230649}\n",
      "[Step 10] : {'accuracy': 0.90625, 'precision': 0.921875, 'recall': 0.90625, 'loss': 0.236763}\n",
      "[Step 20] : {'accuracy': 0.90625, 'precision': 0.924107, 'recall': 0.90625, 'loss': 0.404587}\n",
      "[Step 30] : {'accuracy': 0.84375, 'precision': 0.854167, 'recall': 0.84375, 'loss': 0.464582}\n",
      "[Step 40] : {'accuracy': 0.90625, 'precision': 0.928125, 'recall': 0.90625, 'loss': 0.214684}\n",
      "[Step 50] : {'accuracy': 0.90625, 'precision': 0.913281, 'recall': 0.90625, 'loss': 0.235652}\n",
      "[Step 60] : {'accuracy': 0.875, 'precision': 0.892708, 'recall': 0.875, 'loss': 0.31405}\n",
      "[Step 70] : {'accuracy': 0.78125, 'precision': 0.854911, 'recall': 0.78125, 'loss': 0.561877}\n",
      "[Step 80] : {'accuracy': 0.78125, 'precision': 0.669712, 'recall': 0.78125, 'loss': 0.509344}\n",
      "[Step 90] : {'accuracy': 0.84375, 'precision': 0.875801, 'recall': 0.84375, 'loss': 0.445531}\n",
      "Execution Time : 33.000756 seconds\n",
      "Training scores : \n",
      "   accuracy  precision    recall      loss\n",
      "0  0.887433    0.90514  0.887433  0.315377\n",
      "Validation scores : \n",
      "   accuracy  precision    recall      loss\n",
      "0  0.705793   0.751713  0.705793  0.982989\n",
      "best score not updated.\n",
      "\n",
      "\n",
      "Epoch : 12 :\n",
      "[Step 0] : {'accuracy': 0.90625, 'precision': 0.923177, 'recall': 0.90625, 'loss': 0.266854}\n",
      "[Step 10] : {'accuracy': 0.90625, 'precision': 0.911458, 'recall': 0.90625, 'loss': 0.351714}\n",
      "[Step 20] : {'accuracy': 0.78125, 'precision': 0.824219, 'recall': 0.78125, 'loss': 0.52972}\n",
      "[Step 30] : {'accuracy': 0.90625, 'precision': 0.925781, 'recall': 0.90625, 'loss': 0.346855}\n",
      "[Step 40] : {'accuracy': 0.875, 'precision': 0.90404, 'recall': 0.875, 'loss': 0.387732}\n",
      "[Step 50] : {'accuracy': 0.875, 'precision': 0.882378, 'recall': 0.875, 'loss': 0.306742}\n",
      "[Step 60] : {'accuracy': 0.9375, 'precision': 0.945871, 'recall': 0.9375, 'loss': 0.209198}\n",
      "[Step 70] : {'accuracy': 0.90625, 'precision': 0.909375, 'recall': 0.90625, 'loss': 0.215688}\n",
      "[Step 80] : {'accuracy': 1.0, 'precision': 1.0, 'recall': 1.0, 'loss': 0.105316}\n",
      "[Step 90] : {'accuracy': 0.875, 'precision': 0.902344, 'recall': 0.875, 'loss': 0.28049}\n",
      "Execution Time : 32.936841 seconds\n",
      "Training scores : \n",
      "   accuracy  precision    recall      loss\n",
      "0  0.893481   0.913961  0.893481  0.291809\n",
      "Validation scores : \n",
      "   accuracy  precision    recall      loss\n",
      "0  0.689787   0.740748  0.689787  1.420988\n",
      "best score not updated.\n",
      "\n",
      "\n",
      "Epoch : 13 :\n",
      "[Step 0] : {'accuracy': 0.9375, 'precision': 0.940972, 'recall': 0.9375, 'loss': 0.159039}\n",
      "[Step 10] : {'accuracy': 0.9375, 'precision': 0.949219, 'recall': 0.9375, 'loss': 0.110857}\n",
      "[Step 20] : {'accuracy': 0.875, 'precision': 0.891667, 'recall': 0.875, 'loss': 0.242096}\n",
      "[Step 30] : {'accuracy': 0.90625, 'precision': 0.923264, 'recall': 0.90625, 'loss': 0.165418}\n",
      "[Step 40] : {'accuracy': 0.84375, 'precision': 0.882812, 'recall': 0.84375, 'loss': 0.460083}\n",
      "[Step 50] : {'accuracy': 1.0, 'precision': 1.0, 'recall': 1.0, 'loss': 0.060847}\n",
      "[Step 60] : {'accuracy': 0.9375, 'precision': 0.951823, 'recall': 0.9375, 'loss': 0.186668}\n",
      "[Step 70] : {'accuracy': 0.90625, 'precision': 0.934375, 'recall': 0.90625, 'loss': 0.248163}\n",
      "[Step 80] : {'accuracy': 0.84375, 'precision': 0.887054, 'recall': 0.84375, 'loss': 0.361455}\n",
      "[Step 90] : {'accuracy': 0.90625, 'precision': 0.929315, 'recall': 0.90625, 'loss': 0.246907}\n",
      "Execution Time : 32.930188 seconds\n",
      "Training scores : \n",
      "   accuracy  precision   recall      loss\n",
      "0   0.93078    0.94352  0.93078  0.202448\n",
      "Validation scores : \n",
      "   accuracy  precision    recall      loss\n",
      "0  0.695884   0.734296  0.695884  1.227818\n",
      "Training stopped due to continuous degradation.\n",
      "Training Completed...\n",
      "Executed in 443.8642 seconds.\n",
      "\n",
      "Prepared training reports...\n"
     ]
    }
   ]
  },
  {
   "cell_type": "markdown",
   "source": [
    "We can see NICE monitoring of resuts."
   ],
   "metadata": {
    "id": "HXZ_6LMKNf7A",
    "pycharm": {
     "name": "#%% md\n"
    }
   }
  },
  {
   "cell_type": "markdown",
   "source": [
    "Let's visualize the training reports."
   ],
   "metadata": {
    "id": "mQRST-VQNjhm",
    "pycharm": {
     "name": "#%% md\n"
    }
   }
  },
  {
   "cell_type": "code",
   "source": [
    "import matplotlib.pyplot as plt"
   ],
   "metadata": {
    "id": "3Zaheb-pNU4X",
    "pycharm": {
     "name": "#%%\n"
    }
   },
   "execution_count": 12,
   "outputs": []
  },
  {
   "cell_type": "code",
   "source": [
    "# Train Data Report\n",
    "trainer.train_report.head()"
   ],
   "metadata": {
    "colab": {
     "base_uri": "https://localhost:8080/",
     "height": 206
    },
    "id": "j6btOwLLZeCZ",
    "outputId": "bc12098d-f644-472f-c2a9-6a4dde0c01b0",
    "pycharm": {
     "name": "#%%\n"
    }
   },
   "execution_count": 14,
   "outputs": [
    {
     "output_type": "execute_result",
     "data": {
      "text/plain": [
       "   accuracy  precision    recall      loss\n",
       "0  0.256384   0.160407  0.256384  1.567555\n",
       "1  0.442204   0.414715  0.442204  1.255708\n",
       "2  0.524194   0.557211  0.524194  1.132585\n",
       "3  0.607527   0.667225  0.607527  1.000443\n",
       "4  0.674395   0.715013  0.674395  0.857762"
      ],
      "text/html": [
       "\n",
       "  <div id=\"df-323449f9-3b54-4256-8c61-99e6f30fe94d\">\n",
       "    <div class=\"colab-df-container\">\n",
       "      <div>\n",
       "<style scoped>\n",
       "    .dataframe tbody tr th:only-of-type {\n",
       "        vertical-align: middle;\n",
       "    }\n",
       "\n",
       "    .dataframe tbody tr th {\n",
       "        vertical-align: top;\n",
       "    }\n",
       "\n",
       "    .dataframe thead th {\n",
       "        text-align: right;\n",
       "    }\n",
       "</style>\n",
       "<table border=\"1\" class=\"dataframe\">\n",
       "  <thead>\n",
       "    <tr style=\"text-align: right;\">\n",
       "      <th></th>\n",
       "      <th>accuracy</th>\n",
       "      <th>precision</th>\n",
       "      <th>recall</th>\n",
       "      <th>loss</th>\n",
       "    </tr>\n",
       "  </thead>\n",
       "  <tbody>\n",
       "    <tr>\n",
       "      <th>0</th>\n",
       "      <td>0.256384</td>\n",
       "      <td>0.160407</td>\n",
       "      <td>0.256384</td>\n",
       "      <td>1.567555</td>\n",
       "    </tr>\n",
       "    <tr>\n",
       "      <th>1</th>\n",
       "      <td>0.442204</td>\n",
       "      <td>0.414715</td>\n",
       "      <td>0.442204</td>\n",
       "      <td>1.255708</td>\n",
       "    </tr>\n",
       "    <tr>\n",
       "      <th>2</th>\n",
       "      <td>0.524194</td>\n",
       "      <td>0.557211</td>\n",
       "      <td>0.524194</td>\n",
       "      <td>1.132585</td>\n",
       "    </tr>\n",
       "    <tr>\n",
       "      <th>3</th>\n",
       "      <td>0.607527</td>\n",
       "      <td>0.667225</td>\n",
       "      <td>0.607527</td>\n",
       "      <td>1.000443</td>\n",
       "    </tr>\n",
       "    <tr>\n",
       "      <th>4</th>\n",
       "      <td>0.674395</td>\n",
       "      <td>0.715013</td>\n",
       "      <td>0.674395</td>\n",
       "      <td>0.857762</td>\n",
       "    </tr>\n",
       "  </tbody>\n",
       "</table>\n",
       "</div>\n",
       "      <button class=\"colab-df-convert\" onclick=\"convertToInteractive('df-323449f9-3b54-4256-8c61-99e6f30fe94d')\"\n",
       "              title=\"Convert this dataframe to an interactive table.\"\n",
       "              style=\"display:none;\">\n",
       "        \n",
       "  <svg xmlns=\"http://www.w3.org/2000/svg\" height=\"24px\"viewBox=\"0 0 24 24\"\n",
       "       width=\"24px\">\n",
       "    <path d=\"M0 0h24v24H0V0z\" fill=\"none\"/>\n",
       "    <path d=\"M18.56 5.44l.94 2.06.94-2.06 2.06-.94-2.06-.94-.94-2.06-.94 2.06-2.06.94zm-11 1L8.5 8.5l.94-2.06 2.06-.94-2.06-.94L8.5 2.5l-.94 2.06-2.06.94zm10 10l.94 2.06.94-2.06 2.06-.94-2.06-.94-.94-2.06-.94 2.06-2.06.94z\"/><path d=\"M17.41 7.96l-1.37-1.37c-.4-.4-.92-.59-1.43-.59-.52 0-1.04.2-1.43.59L10.3 9.45l-7.72 7.72c-.78.78-.78 2.05 0 2.83L4 21.41c.39.39.9.59 1.41.59.51 0 1.02-.2 1.41-.59l7.78-7.78 2.81-2.81c.8-.78.8-2.07 0-2.86zM5.41 20L4 18.59l7.72-7.72 1.47 1.35L5.41 20z\"/>\n",
       "  </svg>\n",
       "      </button>\n",
       "      \n",
       "  <style>\n",
       "    .colab-df-container {\n",
       "      display:flex;\n",
       "      flex-wrap:wrap;\n",
       "      gap: 12px;\n",
       "    }\n",
       "\n",
       "    .colab-df-convert {\n",
       "      background-color: #E8F0FE;\n",
       "      border: none;\n",
       "      border-radius: 50%;\n",
       "      cursor: pointer;\n",
       "      display: none;\n",
       "      fill: #1967D2;\n",
       "      height: 32px;\n",
       "      padding: 0 0 0 0;\n",
       "      width: 32px;\n",
       "    }\n",
       "\n",
       "    .colab-df-convert:hover {\n",
       "      background-color: #E2EBFA;\n",
       "      box-shadow: 0px 1px 2px rgba(60, 64, 67, 0.3), 0px 1px 3px 1px rgba(60, 64, 67, 0.15);\n",
       "      fill: #174EA6;\n",
       "    }\n",
       "\n",
       "    [theme=dark] .colab-df-convert {\n",
       "      background-color: #3B4455;\n",
       "      fill: #D2E3FC;\n",
       "    }\n",
       "\n",
       "    [theme=dark] .colab-df-convert:hover {\n",
       "      background-color: #434B5C;\n",
       "      box-shadow: 0px 1px 3px 1px rgba(0, 0, 0, 0.15);\n",
       "      filter: drop-shadow(0px 1px 2px rgba(0, 0, 0, 0.3));\n",
       "      fill: #FFFFFF;\n",
       "    }\n",
       "  </style>\n",
       "\n",
       "      <script>\n",
       "        const buttonEl =\n",
       "          document.querySelector('#df-323449f9-3b54-4256-8c61-99e6f30fe94d button.colab-df-convert');\n",
       "        buttonEl.style.display =\n",
       "          google.colab.kernel.accessAllowed ? 'block' : 'none';\n",
       "\n",
       "        async function convertToInteractive(key) {\n",
       "          const element = document.querySelector('#df-323449f9-3b54-4256-8c61-99e6f30fe94d');\n",
       "          const dataTable =\n",
       "            await google.colab.kernel.invokeFunction('convertToInteractive',\n",
       "                                                     [key], {});\n",
       "          if (!dataTable) return;\n",
       "\n",
       "          const docLinkHtml = 'Like what you see? Visit the ' +\n",
       "            '<a target=\"_blank\" href=https://colab.research.google.com/notebooks/data_table.ipynb>data table notebook</a>'\n",
       "            + ' to learn more about interactive tables.';\n",
       "          element.innerHTML = '';\n",
       "          dataTable['output_type'] = 'display_data';\n",
       "          await google.colab.output.renderOutput(dataTable, element);\n",
       "          const docLink = document.createElement('div');\n",
       "          docLink.innerHTML = docLinkHtml;\n",
       "          element.appendChild(docLink);\n",
       "        }\n",
       "      </script>\n",
       "    </div>\n",
       "  </div>\n",
       "  "
      ]
     },
     "metadata": {},
     "execution_count": 14
    }
   ]
  },
  {
   "cell_type": "code",
   "source": [
    "# Validation Data Report\n",
    "trainer.val_report.head()"
   ],
   "metadata": {
    "colab": {
     "base_uri": "https://localhost:8080/",
     "height": 206
    },
    "id": "ff7c0lQVZmz-",
    "outputId": "4c76da04-a813-4a23-8aff-a66c0ec11a3c",
    "pycharm": {
     "name": "#%%\n"
    }
   },
   "execution_count": 15,
   "outputs": [
    {
     "output_type": "execute_result",
     "data": {
      "text/plain": [
       "   accuracy  precision    recall      loss\n",
       "0  0.373476   0.202916  0.373476  1.420675\n",
       "1  0.500000   0.433037  0.500000  1.152855\n",
       "2  0.559451   0.620747  0.559451  1.059325\n",
       "3  0.647104   0.671682  0.647104  0.869663\n",
       "4  0.657774   0.697384  0.657774  0.872598"
      ],
      "text/html": [
       "\n",
       "  <div id=\"df-2132cb5d-1818-41aa-b572-a1a0ab1c6501\">\n",
       "    <div class=\"colab-df-container\">\n",
       "      <div>\n",
       "<style scoped>\n",
       "    .dataframe tbody tr th:only-of-type {\n",
       "        vertical-align: middle;\n",
       "    }\n",
       "\n",
       "    .dataframe tbody tr th {\n",
       "        vertical-align: top;\n",
       "    }\n",
       "\n",
       "    .dataframe thead th {\n",
       "        text-align: right;\n",
       "    }\n",
       "</style>\n",
       "<table border=\"1\" class=\"dataframe\">\n",
       "  <thead>\n",
       "    <tr style=\"text-align: right;\">\n",
       "      <th></th>\n",
       "      <th>accuracy</th>\n",
       "      <th>precision</th>\n",
       "      <th>recall</th>\n",
       "      <th>loss</th>\n",
       "    </tr>\n",
       "  </thead>\n",
       "  <tbody>\n",
       "    <tr>\n",
       "      <th>0</th>\n",
       "      <td>0.373476</td>\n",
       "      <td>0.202916</td>\n",
       "      <td>0.373476</td>\n",
       "      <td>1.420675</td>\n",
       "    </tr>\n",
       "    <tr>\n",
       "      <th>1</th>\n",
       "      <td>0.500000</td>\n",
       "      <td>0.433037</td>\n",
       "      <td>0.500000</td>\n",
       "      <td>1.152855</td>\n",
       "    </tr>\n",
       "    <tr>\n",
       "      <th>2</th>\n",
       "      <td>0.559451</td>\n",
       "      <td>0.620747</td>\n",
       "      <td>0.559451</td>\n",
       "      <td>1.059325</td>\n",
       "    </tr>\n",
       "    <tr>\n",
       "      <th>3</th>\n",
       "      <td>0.647104</td>\n",
       "      <td>0.671682</td>\n",
       "      <td>0.647104</td>\n",
       "      <td>0.869663</td>\n",
       "    </tr>\n",
       "    <tr>\n",
       "      <th>4</th>\n",
       "      <td>0.657774</td>\n",
       "      <td>0.697384</td>\n",
       "      <td>0.657774</td>\n",
       "      <td>0.872598</td>\n",
       "    </tr>\n",
       "  </tbody>\n",
       "</table>\n",
       "</div>\n",
       "      <button class=\"colab-df-convert\" onclick=\"convertToInteractive('df-2132cb5d-1818-41aa-b572-a1a0ab1c6501')\"\n",
       "              title=\"Convert this dataframe to an interactive table.\"\n",
       "              style=\"display:none;\">\n",
       "        \n",
       "  <svg xmlns=\"http://www.w3.org/2000/svg\" height=\"24px\"viewBox=\"0 0 24 24\"\n",
       "       width=\"24px\">\n",
       "    <path d=\"M0 0h24v24H0V0z\" fill=\"none\"/>\n",
       "    <path d=\"M18.56 5.44l.94 2.06.94-2.06 2.06-.94-2.06-.94-.94-2.06-.94 2.06-2.06.94zm-11 1L8.5 8.5l.94-2.06 2.06-.94-2.06-.94L8.5 2.5l-.94 2.06-2.06.94zm10 10l.94 2.06.94-2.06 2.06-.94-2.06-.94-.94-2.06-.94 2.06-2.06.94z\"/><path d=\"M17.41 7.96l-1.37-1.37c-.4-.4-.92-.59-1.43-.59-.52 0-1.04.2-1.43.59L10.3 9.45l-7.72 7.72c-.78.78-.78 2.05 0 2.83L4 21.41c.39.39.9.59 1.41.59.51 0 1.02-.2 1.41-.59l7.78-7.78 2.81-2.81c.8-.78.8-2.07 0-2.86zM5.41 20L4 18.59l7.72-7.72 1.47 1.35L5.41 20z\"/>\n",
       "  </svg>\n",
       "      </button>\n",
       "      \n",
       "  <style>\n",
       "    .colab-df-container {\n",
       "      display:flex;\n",
       "      flex-wrap:wrap;\n",
       "      gap: 12px;\n",
       "    }\n",
       "\n",
       "    .colab-df-convert {\n",
       "      background-color: #E8F0FE;\n",
       "      border: none;\n",
       "      border-radius: 50%;\n",
       "      cursor: pointer;\n",
       "      display: none;\n",
       "      fill: #1967D2;\n",
       "      height: 32px;\n",
       "      padding: 0 0 0 0;\n",
       "      width: 32px;\n",
       "    }\n",
       "\n",
       "    .colab-df-convert:hover {\n",
       "      background-color: #E2EBFA;\n",
       "      box-shadow: 0px 1px 2px rgba(60, 64, 67, 0.3), 0px 1px 3px 1px rgba(60, 64, 67, 0.15);\n",
       "      fill: #174EA6;\n",
       "    }\n",
       "\n",
       "    [theme=dark] .colab-df-convert {\n",
       "      background-color: #3B4455;\n",
       "      fill: #D2E3FC;\n",
       "    }\n",
       "\n",
       "    [theme=dark] .colab-df-convert:hover {\n",
       "      background-color: #434B5C;\n",
       "      box-shadow: 0px 1px 3px 1px rgba(0, 0, 0, 0.15);\n",
       "      filter: drop-shadow(0px 1px 2px rgba(0, 0, 0, 0.3));\n",
       "      fill: #FFFFFF;\n",
       "    }\n",
       "  </style>\n",
       "\n",
       "      <script>\n",
       "        const buttonEl =\n",
       "          document.querySelector('#df-2132cb5d-1818-41aa-b572-a1a0ab1c6501 button.colab-df-convert');\n",
       "        buttonEl.style.display =\n",
       "          google.colab.kernel.accessAllowed ? 'block' : 'none';\n",
       "\n",
       "        async function convertToInteractive(key) {\n",
       "          const element = document.querySelector('#df-2132cb5d-1818-41aa-b572-a1a0ab1c6501');\n",
       "          const dataTable =\n",
       "            await google.colab.kernel.invokeFunction('convertToInteractive',\n",
       "                                                     [key], {});\n",
       "          if (!dataTable) return;\n",
       "\n",
       "          const docLinkHtml = 'Like what you see? Visit the ' +\n",
       "            '<a target=\"_blank\" href=https://colab.research.google.com/notebooks/data_table.ipynb>data table notebook</a>'\n",
       "            + ' to learn more about interactive tables.';\n",
       "          element.innerHTML = '';\n",
       "          dataTable['output_type'] = 'display_data';\n",
       "          await google.colab.output.renderOutput(dataTable, element);\n",
       "          const docLink = document.createElement('div');\n",
       "          docLink.innerHTML = docLinkHtml;\n",
       "          element.appendChild(docLink);\n",
       "        }\n",
       "      </script>\n",
       "    </div>\n",
       "  </div>\n",
       "  "
      ]
     },
     "metadata": {},
     "execution_count": 15
    }
   ]
  },
  {
   "cell_type": "code",
   "source": [
    "fig, ax = plt.subplots(2,2, figsize=(20, 8))\n",
    "plt.suptitle(\"Graphs\")\n",
    "for i, name in enumerate(trainer.train_report.columns):\n",
    "  plt.subplot(2,2,i+1)\n",
    "  plt.plot(trainer.train_report[name], label=f\"train_{name}\")\n",
    "  plt.plot(trainer.val_report[name], label=f\"val_{name}\")\n",
    "  plt.legend()\n",
    "plt.show()\n"
   ],
   "metadata": {
    "colab": {
     "base_uri": "https://localhost:8080/",
     "height": 540
    },
    "id": "vVFmJjFioknX",
    "outputId": "eec95353-6585-422c-a5f1-dafe69b91d2f",
    "pycharm": {
     "name": "#%%\n"
    }
   },
   "execution_count": 13,
   "outputs": [
    {
     "output_type": "display_data",
     "data": {
      "text/plain": [
       "<Figure size 1440x576 with 4 Axes>"
      ],
      "image/png": "[encoded data removed]"
     },
     "metadata": {
      "needs_background": "light"
     }
    }
   ]
  },
  {
   "cell_type": "markdown",
   "source": [
    "If you get any errors while running the code, please make a PR.\n",
    "\n",
    "Thanks for Visiting!!!\n",
    "\n",
    "If you like the project, do ⭐\n",
    "\n",
    "Also follow me on [GitHub](https://github.com/sagnik1511) , [Kaggle](https://kaggle.com/sagnik1511) , [LinkedIn](https://linkedin.com/in/sagnik1511)"
   ],
   "metadata": {
    "id": "KwJApvHvNpRu",
    "pycharm": {
     "name": "#%% md\n"
    }
   }
  }
 ]
}